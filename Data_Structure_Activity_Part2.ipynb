{
 "cells": [
  {
   "cell_type": "code",
   "execution_count": 1,
   "id": "d0116dea-3cec-4117-99ec-2ca6fdf7cb39",
   "metadata": {},
   "outputs": [],
   "source": [
    "#1 Creating Matrices"
   ]
  },
  {
   "cell_type": "code",
   "execution_count": 65,
   "id": "5864f140-ff36-4f55-b747-af2a030ba3e6",
   "metadata": {},
   "outputs": [],
   "source": [
    "#1.a.i\n",
    "# CJR = [3,10,18] , YOE = [25,15,5] \n",
    "import numpy as np\n",
    "a = np.array ([[3,10,18],\n",
    "               [25,15,5]])\n",
    "# 1.a.ii \n",
    "# 2023-4-0422 = [2,0,2] & [4,2,2]\n",
    "b = np.array ([[2,0,2],\n",
    "               [4,2,2]])"
   ]
  },
  {
   "cell_type": "code",
   "execution_count": 19,
   "id": "539e45be-38ff-4e79-938d-f15d9b3ea3fb",
   "metadata": {},
   "outputs": [
    {
     "name": "stdout",
     "output_type": "stream",
     "text": [
      "Matrix_A:\n",
      " [[ 3 10 18]\n",
      " [25 15  5]]\n",
      "Matrix_B:\n",
      " [[2 0 2]\n",
      " [4 2 2]]\n"
     ]
    }
   ],
   "source": [
    "# 1.b \n",
    "print (\"Matrix_A:\\n\",a)\n",
    "print (\"Matrix_B:\\n\",b)"
   ]
  },
  {
   "cell_type": "code",
   "execution_count": 21,
   "id": "f4126060-00f0-40d9-930d-566e4d8ebb25",
   "metadata": {},
   "outputs": [],
   "source": [
    "# 2 Matrix Addition "
   ]
  },
  {
   "cell_type": "code",
   "execution_count": 59,
   "id": "4c5da9c5-21d0-4f89-897c-e5a5db5e271a",
   "metadata": {},
   "outputs": [
    {
     "name": "stdout",
     "output_type": "stream",
     "text": [
      "Matrix_C:\n",
      " [[ 5 10 20]\n",
      " [29 17  7]]\n"
     ]
    }
   ],
   "source": [
    "# 2.a \n",
    "c = (a+b)\n",
    "# 2.b \n",
    "print (\"Matrix_C:\\n\",c)"
   ]
  },
  {
   "cell_type": "code",
   "execution_count": 25,
   "id": "3b589f8c-06ba-4aaa-85b8-f22ef2a7061e",
   "metadata": {},
   "outputs": [],
   "source": [
    "# 3 Scalar Multiplication "
   ]
  },
  {
   "cell_type": "code",
   "execution_count": 45,
   "id": "7ec608e5-224c-4383-8b1b-474d43700f2d",
   "metadata": {},
   "outputs": [
    {
     "name": "stdout",
     "output_type": "stream",
     "text": [
      "Matrix_D:\n",
      " [[ 6 20 36]\n",
      " [50 30 10]]\n"
     ]
    }
   ],
   "source": [
    "# 3.a \n",
    "d = a*2\n",
    "# 3.b \n",
    "print (\"Matrix_D:\\n\",d)"
   ]
  },
  {
   "cell_type": "code",
   "execution_count": 29,
   "id": "17bfbee1-8531-4aa3-a4fd-a349231ed58e",
   "metadata": {},
   "outputs": [],
   "source": [
    "# 4 Matrix Transpose "
   ]
  },
  {
   "cell_type": "code",
   "execution_count": 49,
   "id": "b51e60f1-1c90-4822-8148-6b60be8f4b32",
   "metadata": {},
   "outputs": [
    {
     "name": "stdout",
     "output_type": "stream",
     "text": [
      "Matrix_E:\n",
      " [[2 4]\n",
      " [0 2]\n",
      " [2 2]]\n"
     ]
    }
   ],
   "source": [
    "# 4.a\n",
    "transposed_b = b.T\n",
    "# 4.b\n",
    "print (\"Matrix_E:\\n\",transposed_b)"
   ]
  },
  {
   "cell_type": "code",
   "execution_count": 33,
   "id": "fbb6a105-7e05-4b80-8ad4-fb499a152c49",
   "metadata": {},
   "outputs": [],
   "source": [
    "# 5 Matrix Multiplication "
   ]
  },
  {
   "cell_type": "code",
   "execution_count": 57,
   "id": "fee624dd-8c1b-48fe-a884-f4b92a276d33",
   "metadata": {},
   "outputs": [
    {
     "name": "stdout",
     "output_type": "stream",
     "text": [
      "Matrix_F:\n",
      " [[ 50  80]\n",
      " [ 72 164]]\n"
     ]
    }
   ],
   "source": [
    "# 5.a \n",
    "f = np.dot(c,transposed_b)\n",
    "# 5.b\n",
    "print (\"Matrix_F:\\n\",f)"
   ]
  },
  {
   "cell_type": "code",
   "execution_count": 37,
   "id": "f60036e5-c9e6-4101-949c-0d35801733ab",
   "metadata": {},
   "outputs": [],
   "source": [
    "# 6 Sum of all Elements "
   ]
  },
  {
   "cell_type": "code",
   "execution_count": 63,
   "id": "d92720a0-bbb8-4bc8-af9b-93bb7b482d58",
   "metadata": {},
   "outputs": [
    {
     "name": "stdout",
     "output_type": "stream",
     "text": [
      "Sum_Matrix_C:\n",
      " 88\n"
     ]
    }
   ],
   "source": [
    "# 6.a \n",
    "C = np.sum (c) \n",
    "# 6.b \n",
    "print (\"Sum_Matrix_C:\\n\",C)"
   ]
  },
  {
   "cell_type": "code",
   "execution_count": 41,
   "id": "c97289ff-8be9-4b26-864d-1686664d09e0",
   "metadata": {},
   "outputs": [],
   "source": [
    "# 7 Zero Matrix "
   ]
  },
  {
   "cell_type": "code",
   "execution_count": 61,
   "id": "9e45e31d-e90a-4a14-aa26-106306faf223",
   "metadata": {},
   "outputs": [
    {
     "name": "stdout",
     "output_type": "stream",
     "text": [
      "Matrix_G:\n",
      " [[0. 0. 0.]\n",
      " [0. 0. 0.]]\n"
     ]
    }
   ],
   "source": [
    "# 7.a \n",
    "G = np.zeros((2,3))\n",
    "# 7.b \n",
    "print (\"Matrix_G:\\n\",h)"
   ]
  }
 ],
 "metadata": {
  "kernelspec": {
   "display_name": "Python [conda env:base] *",
   "language": "python",
   "name": "conda-base-py"
  },
  "language_info": {
   "codemirror_mode": {
    "name": "ipython",
    "version": 3
   },
   "file_extension": ".py",
   "mimetype": "text/x-python",
   "name": "python",
   "nbconvert_exporter": "python",
   "pygments_lexer": "ipython3",
   "version": "3.12.7"
  }
 },
 "nbformat": 4,
 "nbformat_minor": 5
}
